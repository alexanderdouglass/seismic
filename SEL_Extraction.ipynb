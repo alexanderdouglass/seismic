{
 "cells": [
  {
   "cell_type": "code",
   "execution_count": null,
   "id": "2a72903c-1d17-499e-b66e-b14d81d4e886",
   "metadata": {},
   "outputs": [],
   "source": [
    "# Notebook for generating SELs at each shot and receiver, for different bandwidth.\n",
    "\n",
    "# Bandwidths: full band, 1/3 octave bands, 20-100 Hz, 100-220 Hz, 20-60 Hz\n",
    "# Other things to track:\n",
    "# -For each shot/receiver combo: estimate src, rec, and midpoint location; track shot volume"
   ]
  }
 ],
 "metadata": {
  "kernelspec": {
   "display_name": "Python 3 (ipykernel)",
   "language": "python",
   "name": "python3"
  },
  "language_info": {
   "codemirror_mode": {
    "name": "ipython",
    "version": 3
   },
   "file_extension": ".py",
   "mimetype": "text/x-python",
   "name": "python",
   "nbconvert_exporter": "python",
   "pygments_lexer": "ipython3",
   "version": "3.9.13"
  }
 },
 "nbformat": 4,
 "nbformat_minor": 5
}
